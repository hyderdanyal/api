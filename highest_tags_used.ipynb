{
 "cells": [
  {
   "cell_type": "code",
   "execution_count": 1,
   "metadata": {},
   "outputs": [],
   "source": [
    "%matplotlib inline\n",
    "\n",
    "import pandas as pd\n",
    "\n",
    "r = pd.read_csv( 'ratings.csv' )\n",
    "tr = pd.read_csv( 'to_read.csv' )\n",
    "b = pd.read_csv( 'books.csv' )\n",
    "\n",
    "t = pd.read_csv( 'tags.csv' )\n",
    "bt = pd.read_csv( 'book_tags.csv')"
   ]
  },
  {
   "cell_type": "code",
   "execution_count": 2,
   "metadata": {},
   "outputs": [
    {
     "data": {
      "text/html": [
       "<div>\n",
       "<style scoped>\n",
       "    .dataframe tbody tr th:only-of-type {\n",
       "        vertical-align: middle;\n",
       "    }\n",
       "\n",
       "    .dataframe tbody tr th {\n",
       "        vertical-align: top;\n",
       "    }\n",
       "\n",
       "    .dataframe thead th {\n",
       "        text-align: right;\n",
       "    }\n",
       "</style>\n",
       "<table border=\"1\" class=\"dataframe\">\n",
       "  <thead>\n",
       "    <tr style=\"text-align: right;\">\n",
       "      <th></th>\n",
       "      <th>tag_id</th>\n",
       "      <th>tag_name</th>\n",
       "    </tr>\n",
       "  </thead>\n",
       "  <tbody>\n",
       "    <tr>\n",
       "      <th>0</th>\n",
       "      <td>0</td>\n",
       "      <td>-</td>\n",
       "    </tr>\n",
       "    <tr>\n",
       "      <th>1</th>\n",
       "      <td>1</td>\n",
       "      <td>--1-</td>\n",
       "    </tr>\n",
       "    <tr>\n",
       "      <th>2</th>\n",
       "      <td>2</td>\n",
       "      <td>--10-</td>\n",
       "    </tr>\n",
       "    <tr>\n",
       "      <th>3</th>\n",
       "      <td>3</td>\n",
       "      <td>--12-</td>\n",
       "    </tr>\n",
       "    <tr>\n",
       "      <th>4</th>\n",
       "      <td>4</td>\n",
       "      <td>--122-</td>\n",
       "    </tr>\n",
       "  </tbody>\n",
       "</table>\n",
       "</div>"
      ],
      "text/plain": [
       "   tag_id tag_name\n",
       "0       0        -\n",
       "1       1     --1-\n",
       "2       2    --10-\n",
       "3       3    --12-\n",
       "4       4   --122-"
      ]
     },
     "execution_count": 2,
     "metadata": {},
     "output_type": "execute_result"
    }
   ],
   "source": [
    "t.head()"
   ]
  },
  {
   "cell_type": "code",
   "execution_count": 3,
   "metadata": {},
   "outputs": [
    {
     "data": {
      "text/plain": [
       "34252"
      ]
     },
     "execution_count": 3,
     "metadata": {},
     "output_type": "execute_result"
    }
   ],
   "source": [
    "len(t)"
   ]
  },
  {
   "cell_type": "code",
   "execution_count": 4,
   "metadata": {},
   "outputs": [
    {
     "data": {
      "text/html": [
       "<div>\n",
       "<style scoped>\n",
       "    .dataframe tbody tr th:only-of-type {\n",
       "        vertical-align: middle;\n",
       "    }\n",
       "\n",
       "    .dataframe tbody tr th {\n",
       "        vertical-align: top;\n",
       "    }\n",
       "\n",
       "    .dataframe thead th {\n",
       "        text-align: right;\n",
       "    }\n",
       "</style>\n",
       "<table border=\"1\" class=\"dataframe\">\n",
       "  <thead>\n",
       "    <tr style=\"text-align: right;\">\n",
       "      <th></th>\n",
       "      <th>goodreads_book_id</th>\n",
       "      <th>tag_id</th>\n",
       "      <th>count</th>\n",
       "    </tr>\n",
       "  </thead>\n",
       "  <tbody>\n",
       "    <tr>\n",
       "      <th>0</th>\n",
       "      <td>1</td>\n",
       "      <td>30574</td>\n",
       "      <td>167697</td>\n",
       "    </tr>\n",
       "    <tr>\n",
       "      <th>1</th>\n",
       "      <td>1</td>\n",
       "      <td>11305</td>\n",
       "      <td>37174</td>\n",
       "    </tr>\n",
       "    <tr>\n",
       "      <th>2</th>\n",
       "      <td>1</td>\n",
       "      <td>11557</td>\n",
       "      <td>34173</td>\n",
       "    </tr>\n",
       "    <tr>\n",
       "      <th>3</th>\n",
       "      <td>1</td>\n",
       "      <td>8717</td>\n",
       "      <td>12986</td>\n",
       "    </tr>\n",
       "    <tr>\n",
       "      <th>4</th>\n",
       "      <td>1</td>\n",
       "      <td>33114</td>\n",
       "      <td>12716</td>\n",
       "    </tr>\n",
       "  </tbody>\n",
       "</table>\n",
       "</div>"
      ],
      "text/plain": [
       "   goodreads_book_id  tag_id   count\n",
       "0                  1   30574  167697\n",
       "1                  1   11305   37174\n",
       "2                  1   11557   34173\n",
       "3                  1    8717   12986\n",
       "4                  1   33114   12716"
      ]
     },
     "execution_count": 4,
     "metadata": {},
     "output_type": "execute_result"
    }
   ],
   "source": [
    "bt.head()"
   ]
  },
  {
   "cell_type": "code",
   "execution_count": 5,
   "metadata": {},
   "outputs": [],
   "source": [
    "bt = bt.merge( t, on = 'tag_id' )"
   ]
  },
  {
   "cell_type": "code",
   "execution_count": 6,
   "metadata": {},
   "outputs": [],
   "source": [
    "bt = bt.merge( b[[ 'goodreads_book_id', 'title']], on = 'goodreads_book_id' )"
   ]
  },
  {
   "cell_type": "code",
   "execution_count": 7,
   "metadata": {},
   "outputs": [
    {
     "data": {
      "text/plain": [
       "count    999912.000000\n",
       "mean        208.869633\n",
       "std        3501.265173\n",
       "min          -1.000000\n",
       "25%           7.000000\n",
       "50%          15.000000\n",
       "75%          40.000000\n",
       "max      596234.000000\n",
       "Name: count, dtype: float64"
      ]
     },
     "execution_count": 7,
     "metadata": {},
     "output_type": "execute_result"
    }
   ],
   "source": [
    "bt['count'].describe()"
   ]
  },
  {
   "cell_type": "code",
   "execution_count": 8,
   "metadata": {},
   "outputs": [],
   "source": [
    "bt.loc[ bt['count'] < 0, 'count'] = 0"
   ]
  },
  {
   "cell_type": "code",
   "execution_count": 9,
   "metadata": {},
   "outputs": [
    {
     "data": {
      "text/html": [
       "<div>\n",
       "<style scoped>\n",
       "    .dataframe tbody tr th:only-of-type {\n",
       "        vertical-align: middle;\n",
       "    }\n",
       "\n",
       "    .dataframe tbody tr th {\n",
       "        vertical-align: top;\n",
       "    }\n",
       "\n",
       "    .dataframe thead th {\n",
       "        text-align: right;\n",
       "    }\n",
       "</style>\n",
       "<table border=\"1\" class=\"dataframe\">\n",
       "  <thead>\n",
       "    <tr style=\"text-align: right;\">\n",
       "      <th></th>\n",
       "      <th>goodreads_book_id</th>\n",
       "      <th>tag_id</th>\n",
       "      <th>count</th>\n",
       "      <th>tag_name</th>\n",
       "      <th>title</th>\n",
       "    </tr>\n",
       "  </thead>\n",
       "  <tbody>\n",
       "    <tr>\n",
       "      <th>553394</th>\n",
       "      <td>773038</td>\n",
       "      <td>30574</td>\n",
       "      <td>43980</td>\n",
       "      <td>to-read</td>\n",
       "      <td>The Seven Spiritual Laws of Success: A Practic...</td>\n",
       "    </tr>\n",
       "    <tr>\n",
       "      <th>704194</th>\n",
       "      <td>7235533</td>\n",
       "      <td>30574</td>\n",
       "      <td>113159</td>\n",
       "      <td>to-read</td>\n",
       "      <td>The Way of Kings (The Stormlight Archive, #1)</td>\n",
       "    </tr>\n",
       "    <tr>\n",
       "      <th>764294</th>\n",
       "      <td>10054335</td>\n",
       "      <td>30574</td>\n",
       "      <td>27500</td>\n",
       "      <td>to-read</td>\n",
       "      <td>Rules of Civility</td>\n",
       "    </tr>\n",
       "    <tr>\n",
       "      <th>936456</th>\n",
       "      <td>20696006</td>\n",
       "      <td>30574</td>\n",
       "      <td>72546</td>\n",
       "      <td>to-read</td>\n",
       "      <td>Being Mortal: Medicine and What Matters in the...</td>\n",
       "    </tr>\n",
       "    <tr>\n",
       "      <th>44300</th>\n",
       "      <td>5297</td>\n",
       "      <td>30574</td>\n",
       "      <td>358381</td>\n",
       "      <td>to-read</td>\n",
       "      <td>The Picture of Dorian Gray</td>\n",
       "    </tr>\n",
       "    <tr>\n",
       "      <th>930064</th>\n",
       "      <td>19346451</td>\n",
       "      <td>32989</td>\n",
       "      <td>156</td>\n",
       "      <td>ya</td>\n",
       "      <td>The Revenge of Seven (Lorien Legacies, #5)</td>\n",
       "    </tr>\n",
       "    <tr>\n",
       "      <th>401700</th>\n",
       "      <td>153747</td>\n",
       "      <td>30574</td>\n",
       "      <td>255686</td>\n",
       "      <td>to-read</td>\n",
       "      <td>Moby-Dick or, The Whale</td>\n",
       "    </tr>\n",
       "    <tr>\n",
       "      <th>706015</th>\n",
       "      <td>7307503</td>\n",
       "      <td>31617</td>\n",
       "      <td>737</td>\n",
       "      <td>urban-fantasy</td>\n",
       "      <td>Archangel's Consort (Guild Hunter, #3)</td>\n",
       "    </tr>\n",
       "    <tr>\n",
       "      <th>127612</th>\n",
       "      <td>15881</td>\n",
       "      <td>18886</td>\n",
       "      <td>3650</td>\n",
       "      <td>magic</td>\n",
       "      <td>Harry Potter and the Chamber of Secrets (Harry...</td>\n",
       "    </tr>\n",
       "    <tr>\n",
       "      <th>967912</th>\n",
       "      <td>23719378</td>\n",
       "      <td>30574</td>\n",
       "      <td>32666</td>\n",
       "      <td>to-read</td>\n",
       "      <td>Girl Waits with Gun (Kopp Sisters, #1)</td>\n",
       "    </tr>\n",
       "  </tbody>\n",
       "</table>\n",
       "</div>"
      ],
      "text/plain": [
       "        goodreads_book_id  tag_id   count       tag_name  \\\n",
       "553394             773038   30574   43980        to-read   \n",
       "704194            7235533   30574  113159        to-read   \n",
       "764294           10054335   30574   27500        to-read   \n",
       "936456           20696006   30574   72546        to-read   \n",
       "44300                5297   30574  358381        to-read   \n",
       "930064           19346451   32989     156             ya   \n",
       "401700             153747   30574  255686        to-read   \n",
       "706015            7307503   31617     737  urban-fantasy   \n",
       "127612              15881   18886    3650          magic   \n",
       "967912           23719378   30574   32666        to-read   \n",
       "\n",
       "                                                    title  \n",
       "553394  The Seven Spiritual Laws of Success: A Practic...  \n",
       "704194      The Way of Kings (The Stormlight Archive, #1)  \n",
       "764294                                  Rules of Civility  \n",
       "936456  Being Mortal: Medicine and What Matters in the...  \n",
       "44300                          The Picture of Dorian Gray  \n",
       "930064         The Revenge of Seven (Lorien Legacies, #5)  \n",
       "401700                            Moby-Dick or, The Whale  \n",
       "706015             Archangel's Consort (Guild Hunter, #3)  \n",
       "127612  Harry Potter and the Chamber of Secrets (Harry...  \n",
       "967912             Girl Waits with Gun (Kopp Sisters, #1)  "
      ]
     },
     "execution_count": 9,
     "metadata": {},
     "output_type": "execute_result"
    }
   ],
   "source": [
    "bt.sample( 10, weights = 'count')"
   ]
  },
  {
   "cell_type": "markdown",
   "metadata": {},
   "source": [
    "The popular tags are\n"
   ]
  },
  {
   "cell_type": "code",
   "execution_count": 10,
   "metadata": {},
   "outputs": [
    {
     "data": {
      "text/plain": [
       "tag_name\n",
       "to-read              9983\n",
       "favorites            9881\n",
       "owned                9858\n",
       "books-i-own          9799\n",
       "currently-reading    9776\n",
       "library              9415\n",
       "owned-books          9221\n",
       "fiction              9097\n",
       "to-buy               8692\n",
       "kindle               8316\n",
       "default              8239\n",
       "ebook                8054\n",
       "my-books             7561\n",
       "audiobook            7242\n",
       "ebooks               7203\n",
       "wish-list            7192\n",
       "my-library           7000\n",
       "audiobooks           6862\n",
       "i-own                6670\n",
       "adult                6604\n",
       "Name: tag_name, dtype: int64"
      ]
     },
     "execution_count": 10,
     "metadata": {},
     "output_type": "execute_result"
    }
   ],
   "source": [
    "tag_counts = bt.groupby( 'tag_name' ).tag_name.count().sort_values( ascending = False )\n",
    "tag_counts.head( 20 )"
   ]
  },
  {
   "cell_type": "code",
   "execution_count": null,
   "metadata": {},
   "outputs": [],
   "source": []
  }
 ],
 "metadata": {
  "kernelspec": {
   "display_name": "Python 3",
   "language": "python",
   "name": "python3"
  },
  "language_info": {
   "codemirror_mode": {
    "name": "ipython",
    "version": 3
   },
   "file_extension": ".py",
   "mimetype": "text/x-python",
   "name": "python",
   "nbconvert_exporter": "python",
   "pygments_lexer": "ipython3",
   "version": "3.7.6"
  }
 },
 "nbformat": 4,
 "nbformat_minor": 2
}